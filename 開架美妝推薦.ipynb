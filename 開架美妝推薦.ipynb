{
 "cells": [
  {
   "cell_type": "code",
   "execution_count": 16,
   "metadata": {},
   "outputs": [],
   "source": [
    "import numpy as np\n",
    "from ipywidgets import interact\n",
    "import random"
   ]
  },
  {
   "cell_type": "code",
   "execution_count": 34,
   "metadata": {},
   "outputs": [],
   "source": [
    "concealer = [\"maybelinefitme遮瑕\", \"canmake高延展性防曬遮瑕棒\", \"1028修修雙色疊色盤\", \"etudehouse萬事如意\"]"
   ]
  },
  {
   "cell_type": "code",
   "execution_count": 35,
   "metadata": {},
   "outputs": [],
   "source": [
    "eyeliner = [\"kissme零阻力眼線膠筆\", \"kate凝色柔滑眼線膠筆\"]"
   ]
  },
  {
   "cell_type": "code",
   "execution_count": 36,
   "metadata": {},
   "outputs": [],
   "source": [
    "mascara = [\"innisfree根根分明睫毛膏\", \"1028纖長睫毛膏\"]"
   ]
  },
  {
   "cell_type": "code",
   "execution_count": 37,
   "metadata": {},
   "outputs": [],
   "source": [
    "highlighter = [\"mekosnowflakes\", \"wetnwild櫻花打亮\", \"essence角色光影打亮粉霜\"]"
   ]
  },
  {
   "cell_type": "code",
   "execution_count": 38,
   "metadata": {},
   "outputs": [],
   "source": [
    "blush = [\"canmake巧麗腮紅組\", \"essenceblushplay\", \"mabybeline50號腮紅\"]"
   ]
  },
  {
   "cell_type": "code",
   "execution_count": 39,
   "metadata": {},
   "outputs": [],
   "source": [
    "eyebrowpencil = [\"1028我行我素\", \"canmake完美霧面眉彩盤\", \"za旋轉眉筆\", \"innisfree極細眉筆\"]"
   ]
  },
  {
   "cell_type": "code",
   "execution_count": 8,
   "metadata": {},
   "outputs": [],
   "source": [
    "def f(化妝品類型):\n",
    "    print(化妝品類型)\n"
   ]
  },
  {
   "cell_type": "code",
   "execution_count": 54,
   "metadata": {},
   "outputs": [
    {
     "data": {
      "application/vnd.jupyter.widget-view+json": {
       "model_id": "db6fef9507064f31a468d6a79d2e2538",
       "version_major": 2,
       "version_minor": 0
      },
      "text/plain": [
       "interactive(children=(Dropdown(description='化妝品類型', options={'concealer': '1028修修雙色疊色盤', 'eyeliner': 'kate凝色柔滑…"
      ]
     },
     "metadata": {},
     "output_type": "display_data"
    },
    {
     "data": {
      "text/plain": [
       "<function __main__.f(化妝品類型)>"
      ]
     },
     "execution_count": 54,
     "metadata": {},
     "output_type": "execute_result"
    }
   ],
   "source": [
    "interact (f,化妝品類型 = {\"concealer\":concealer[random.randint(0, len(concealer)-1)],\n",
    "                       \"eyeliner\":eyeliner[random.randint(0,len(eyeliner)-1)], \n",
    "                       \"mascara\":mascara[random.randint(0,len(mascara)-1)],\n",
    "                       \"highlighter\":highlighter[random.randint(0,len(highlighter)-1)],\n",
    "                       \"blush\":blush[random.randint(0,len(blush)-1)],\n",
    "                       \"eyebrowpencil\":eyebrowpencil[np.random.randint(0,len(eyebrowpencil)-1)]})"
   ]
  },
  {
   "cell_type": "code",
   "execution_count": 55,
   "metadata": {},
   "outputs": [
    {
     "data": {
      "application/vnd.jupyter.widget-view+json": {
       "model_id": "8a3ddd96a8fc4f7081cd37d36369fb0d",
       "version_major": 2,
       "version_minor": 0
      },
      "text/plain": [
       "interactive(children=(Dropdown(description='化妝品類型', options={'concealer': 'canmake高延展性防曬遮瑕棒', 'eyeliner': 'kis…"
      ]
     },
     "metadata": {},
     "output_type": "display_data"
    },
    {
     "data": {
      "text/plain": [
       "<function __main__.f(化妝品類型)>"
      ]
     },
     "execution_count": 55,
     "metadata": {},
     "output_type": "execute_result"
    }
   ],
   "source": [
    "interact (f,化妝品類型 = {\"concealer\":concealer[random.randint(0,3)],\n",
    "                       \"eyeliner\":eyeliner[random.randint(0,1)], \n",
    "                       \"mascara\":mascara[random.randint(0,1)],\n",
    "                       \"highlighter\":highlighter[random.randint(0,2)],\n",
    "                       \"blush\":blush[random.randint(0,2)],\n",
    "                       \"eyebrowpencil\":eyebrowpencil[np.random.randint(0,3)]})"
   ]
  },
  {
   "cell_type": "code",
   "execution_count": null,
   "metadata": {},
   "outputs": [],
   "source": []
  }
 ],
 "metadata": {
  "kernelspec": {
   "display_name": "Python 3",
   "language": "python",
   "name": "python3"
  },
  "language_info": {
   "codemirror_mode": {
    "name": "ipython",
    "version": 3
   },
   "file_extension": ".py",
   "mimetype": "text/x-python",
   "name": "python",
   "nbconvert_exporter": "python",
   "pygments_lexer": "ipython3",
   "version": "3.7.3"
  }
 },
 "nbformat": 4,
 "nbformat_minor": 2
}
