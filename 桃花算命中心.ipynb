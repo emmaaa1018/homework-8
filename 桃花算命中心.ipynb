{
 "cells": [
  {
   "cell_type": "code",
   "execution_count": null,
   "metadata": {},
   "outputs": [],
   "source": [
    "print(\"歡迎來到政大算命中心\")\n",
    "A = input(\"想知道哪個系的人會讓你脫魯嗎？\")\n",
    "print(A)\n",
    "message\n",
    "while message "
   ]
  },
  {
   "cell_type": "code",
   "execution_count": null,
   "metadata": {},
   "outputs": [],
   "source": [
    "print('歡迎來到政大算命中心，哪個學院的帥哥美女是你命中注定的人？')\n",
    "print('請依直覺選出一個下列的顏色？ \\n『紅色、橘色、黃色、綠色、藍色、紫色』 \\n想繼續單身的話，請輸入bye')\n",
    "\n",
    "message = input(\">> \")\n",
    "while message != \"bye\":\n",
    "    if message == '紅色':\n",
    "else: \n",
    "    print(\"掰掰，一個人也有一個人的好\")"
   ]
  },
  {
   "cell_type": "code",
   "execution_count": null,
   "metadata": {},
   "outputs": [],
   "source": [
    "print()"
   ]
  },
  {
   "cell_type": "code",
   "execution_count": null,
   "metadata": {},
   "outputs": [],
   "source": []
  }
 ],
 "metadata": {
  "kernelspec": {
   "display_name": "Python 3",
   "language": "python",
   "name": "python3"
  },
  "language_info": {
   "codemirror_mode": {
    "name": "ipython",
    "version": 3
   },
   "file_extension": ".py",
   "mimetype": "text/x-python",
   "name": "python",
   "nbconvert_exporter": "python",
   "pygments_lexer": "ipython3",
   "version": "3.7.3"
  }
 },
 "nbformat": 4,
 "nbformat_minor": 2
}
