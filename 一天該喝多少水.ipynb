{
 "cells": [
  {
   "cell_type": "code",
   "execution_count": 11,
   "metadata": {},
   "outputs": [
    {
     "name": "stdout",
     "output_type": "stream",
     "text": [
      "你一天該喝多少毫升的水呢？\n",
      "首先，請輸入你的年齡\n",
      "年齡 >>22\n",
      "再來，請告訴我你的體重\n",
      "體重 >>45\n",
      "一天要喝 1800 毫升哦\n",
      "派森祝你身體健康\n"
     ]
    }
   ],
   "source": [
    "print(\"你一天該喝多少毫升的水呢？\")\n",
    "print(\"首先，請輸入你的年齡\")\n",
    "age = int(input(\"年齡 >>\"))\n",
    "print(\"再來，請告訴我你的體重\")\n",
    "weight = int(input(\"體重 >>\"))\n",
    "\n",
    "\n",
    "if age <30:\n",
    "     print(\"一天要喝\",weight*40,\"毫升哦\")\n",
    "elif age <55:\n",
    "     print(\"一天要喝\",weight*35,\"毫升哦\")\n",
    "elif age <65:\n",
    "     print(\"一天要喝\",weight*30,\"毫升哦\")\n",
    "else:\n",
    "     print(\"一天要喝\",weight*25,\"毫升哦\")\n",
    "\n",
    "print(\"派森祝你身體健康\")"
   ]
  },
  {
   "cell_type": "code",
   "execution_count": null,
   "metadata": {},
   "outputs": [],
   "source": []
  }
 ],
 "metadata": {
  "kernelspec": {
   "display_name": "Python 3",
   "language": "python",
   "name": "python3"
  },
  "language_info": {
   "codemirror_mode": {
    "name": "ipython",
    "version": 3
   },
   "file_extension": ".py",
   "mimetype": "text/x-python",
   "name": "python",
   "nbconvert_exporter": "python",
   "pygments_lexer": "ipython3",
   "version": "3.7.3"
  }
 },
 "nbformat": 4,
 "nbformat_minor": 2
}
